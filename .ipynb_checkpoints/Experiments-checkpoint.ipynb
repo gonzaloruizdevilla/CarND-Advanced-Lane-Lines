{
 "cells": [
  {
   "cell_type": "code",
   "execution_count": null,
   "metadata": {},
   "outputs": [],
   "source": [
    "def test_previous_pipeline2(fname):\n",
    "    test_img = cv2.imread(fname)\n",
    "    test_img = cv2.cvtColor(test_img,cv2.COLOR_BGR2RGB)\n",
    "    undistorted = cal_undistort(test_img)\n",
    "    binary_img = to_binary_img(undistorted)\n",
    "    \n",
    "    color_binary = np.dstack((np.zeros_like(binary_img), binary_img, (np.zeros_like(binary_img)))) * 255\n",
    "    cv2.polylines(color_binary,[original_pts.astype(int)],True,(255,0,0),3)\n",
    "    \n",
    "    masked_binary = apply_mask(binary_img)\n",
    "    warped_binary= warp(masked_binary)\n",
    "\n",
    "    color_warped = np.dstack((np.zeros_like(warped_binary), warped_binary, (np.zeros_like(warped_binary)))) * 255\n",
    "    cv2.polylines(color_warped,[dst_pts.astype(int)],True,(0,0,255),3)\n",
    "\n",
    "    #Plotting\n",
    "    f, (ax1, ax2) = plt.subplots(1, 2, figsize=(24, 9))\n",
    "    f.tight_layout()\n",
    "\n",
    "    ax1.imshow(color_binary)\n",
    "    ax1.set_title('Original Image', fontsize=40)\n",
    "\n",
    "    ax2.imshow(color_warped)\n",
    "    ax2.set_title('Perspective Transform Result', fontsize=40)\n",
    "    plt.subplots_adjust(left=0., right=1, top=0.9, bottom=0.)\n",
    "    "
   ]
  }
 ],
 "metadata": {
  "kernelspec": {
   "display_name": "Python 3",
   "language": "python",
   "name": "python3"
  },
  "language_info": {
   "codemirror_mode": {
    "name": "ipython",
    "version": 3
   },
   "file_extension": ".py",
   "mimetype": "text/x-python",
   "name": "python",
   "nbconvert_exporter": "python",
   "pygments_lexer": "ipython3",
   "version": "3.5.2"
  },
  "widgets": {
   "state": {},
   "version": "1.1.2"
  }
 },
 "nbformat": 4,
 "nbformat_minor": 2
}
